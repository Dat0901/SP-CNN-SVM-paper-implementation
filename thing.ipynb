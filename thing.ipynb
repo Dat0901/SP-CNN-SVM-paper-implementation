{
 "cells": [
  {
   "cell_type": "code",
   "execution_count": null,
   "id": "b0d30098",
   "metadata": {
    "vscode": {
     "languageId": "plaintext"
    }
   },
   "outputs": [],
   "source": [
    "import os\n",
    "import random\n",
    "\n",
    "# Specify the folder path containing the images\n",
    "folder_path = \"/home/datdq/1WorkSpace/Dataset_General/color/color_test/yellow\"  # Replace with your folder path\n",
    "\n",
    "# Get a list of all files in the folder\n",
    "files = [f for f in os.listdir(folder_path) if os.path.isfile(os.path.join(folder_path, f))]\n",
    "\n",
    "# Filter for image files (optional, if you want to ensure only images are considered)\n",
    "image_extensions = (\".jpg\", \".jpeg\", \".png\", \".gif\", \".bmp\", \".tiff\")  # Add more if needed\n",
    "images = [f for f in files if f.lower().endswith(image_extensions)]\n",
    "\n",
    "# Check the number of images\n",
    "total_images = len(images)\n",
    "target_images = 500\n",
    "\n",
    "if total_images <= target_images:\n",
    "    print(f\"Folder already has {total_images} images, no deletion needed.\")\n",
    "else:\n",
    "    # Calculate how many images to delete\n",
    "    images_to_delete = total_images - target_images\n",
    "    \n",
    "    # Select random images to delete\n",
    "    images_to_delete_list = random.sample(images, images_to_delete)\n",
    "    \n",
    "    # Delete the selected images\n",
    "    for image in images_to_delete_list:\n",
    "        image_path = os.path.join(folder_path, image)\n",
    "        try:\n",
    "            os.remove(image_path)\n",
    "            print(f\"Deleted: {image}\")\n",
    "        except Exception as e:\n",
    "            print(f\"Error deleting {image}: {e}\")\n",
    "    \n",
    "    print(f\"Deleted {images_to_delete} images. {target_images} images remain.\")"
   ]
  }
 ],
 "metadata": {
  "language_info": {
   "name": "python"
  }
 },
 "nbformat": 4,
 "nbformat_minor": 5
}

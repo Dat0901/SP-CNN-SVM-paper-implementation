{
 "cells": [
  {
   "cell_type": "code",
   "execution_count": null,
   "id": "57e11c23",
   "metadata": {},
   "outputs": [],
   "source": [
    "import torch\n",
    "import torch.nn as nn\n",
    "\n",
    "class LinearSVM(nn.Module):\n",
    "    def __init__(self, input_dim, num_classes):\n",
    "        super().__init__()\n",
    "        self.linear = nn.Linear(input_dim, num_classes)\n",
    "\n",
    "    def forward(self, x):\n",
    "        return self.linear(x)\n",
    "def multiclass_hinge_loss(outputs, labels, margin=1.0):\n",
    "    \"\"\"\n",
    "    outputs: (batch_size, num_classes)\n",
    "    labels: (batch_size,) — correct class index\n",
    "    \"\"\"\n",
    "    batch_size = outputs.size(0)\n",
    "    correct_class_scores = outputs[torch.arange(batch_size), labels].unsqueeze(1)\n",
    "    \n",
    "    margins = outputs - correct_class_scores + margin\n",
    "    margins[torch.arange(batch_size), labels] = 0  # ignore correct class\n",
    "    loss = torch.clamp(margins, min=0).sum() / batch_size\n",
    "    return loss\n"
   ]
  },
  {
   "cell_type": "code",
   "execution_count": null,
   "id": "012d4ef8",
   "metadata": {},
   "outputs": [
    {
     "name": "stdout",
     "output_type": "stream",
     "text": [
      "Epoch 1, Loss: 35.2941\n",
      "Epoch 2, Loss: 0.2121\n",
      "Epoch 3, Loss: 0.0906\n",
      "Epoch 4, Loss: 0.0000\n",
      "Epoch 5, Loss: 0.0000\n",
      "Epoch 6, Loss: 0.0000\n",
      "Epoch 7, Loss: 0.0000\n",
      "Epoch 8, Loss: 0.0000\n",
      "Epoch 9, Loss: 0.0000\n",
      "Epoch 10, Loss: 0.0000\n"
     ]
    }
   ],
   "source": [
    "import numpy as np\n",
    "from torch.utils.data import TensorDataset, DataLoader\n",
    "\n",
    "X = np.load(\"features/six_classes/fc7.npy\")      \n",
    "y = np.load(\"features/six_classes/labels.npy\")\n",
    "\n",
    "# Wrap in PyTorch DataLoader\n",
    "X_tensor = torch.from_numpy(X).float()\n",
    "y_tensor = torch.from_numpy(y).long()\n",
    "\n",
    "dataset = TensorDataset(X_tensor, y_tensor)\n",
    "loader = DataLoader(dataset, batch_size=64, shuffle=True)\n",
    "\n",
    "# Instantiate model\n",
    "input_dim = X.shape[1]\n",
    "num_classes = len(np.unique(y))\n",
    "model = LinearSVM(input_dim, num_classes)\n",
    "\n",
    "# Optimizer\n",
    "optimizer = torch.optim.SGD(model.parameters(), lr=0.01, weight_decay=1e-4)\n",
    "\n",
    "# Training loop\n",
    "for epoch in range(10):\n",
    "    total_loss = 0\n",
    "    for xb, yb in loader:\n",
    "        logits = model(xb)\n",
    "        loss = multiclass_hinge_loss(logits, yb)\n",
    "\n",
    "        optimizer.zero_grad()\n",
    "        loss.backward()\n",
    "        optimizer.step()\n",
    "\n",
    "        total_loss += loss.item()\n",
    "    print(f\"Epoch {epoch+1}, Loss: {total_loss:.4f}\")\n"
   ]
  },
  {
   "cell_type": "code",
   "execution_count": 4,
   "id": "98c34cc9",
   "metadata": {},
   "outputs": [
    {
     "name": "stdout",
     "output_type": "stream",
     "text": [
      "Train Accuracy: 100.00%\n"
     ]
    }
   ],
   "source": [
    "with torch.no_grad():\n",
    "    logits = model(X_tensor)\n",
    "    predictions = torch.argmax(logits, dim=1)\n",
    "    acc = (predictions == y_tensor).float().mean()\n",
    "    print(f\"Train Accuracy: {acc.item()*100:.2f}%\")"
   ]
  },
  {
   "cell_type": "code",
   "execution_count": 5,
   "id": "7ecd1573",
   "metadata": {},
   "outputs": [],
   "source": [
    "dummy_input = torch.randn(1, input_dim)\n",
    "torch.onnx.export(model, dummy_input, \"svm_fc7_dynamic.onnx\",\n",
    "                  input_names=['input'],\n",
    "                  output_names=['logits'],\n",
    "                  dynamic_axes={'input': {0: 'batch_size'}, 'logits': {0: 'batch_size'}},\n",
    "                  opset_version=11)"
   ]
  },
  {
   "cell_type": "code",
   "execution_count": null,
   "id": "09f266f8",
   "metadata": {},
   "outputs": [],
   "source": []
  },
  {
   "cell_type": "code",
   "execution_count": null,
   "id": "a1238c53",
   "metadata": {},
   "outputs": [],
   "source": []
  }
 ],
 "metadata": {
  "kernelspec": {
   "display_name": "myenv",
   "language": "python",
   "name": "python3"
  },
  "language_info": {
   "codemirror_mode": {
    "name": "ipython",
    "version": 3
   },
   "file_extension": ".py",
   "mimetype": "text/x-python",
   "name": "python",
   "nbconvert_exporter": "python",
   "pygments_lexer": "ipython3",
   "version": "3.9.21"
  }
 },
 "nbformat": 4,
 "nbformat_minor": 5
}
